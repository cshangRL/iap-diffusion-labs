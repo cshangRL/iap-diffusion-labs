{
  "nbformat": 4,
  "nbformat_minor": 0,
  "metadata": {
    "colab": {
      "provenance": [],
      "authorship_tag": "ABX9TyP8rLH6XkKGlIguXdh2CCU2",
      "include_colab_link": true
    },
    "kernelspec": {
      "name": "python3",
      "display_name": "Python 3"
    },
    "language_info": {
      "name": "python"
    }
  },
  "cells": [
    {
      "cell_type": "markdown",
      "metadata": {
        "id": "view-in-github",
        "colab_type": "text"
      },
      "source": [
        "<a href=\"https://colab.research.google.com/github/cshangRL/iap-diffusion-labs/blob/main/mytests/lab3-1.ipynb\" target=\"_parent\"><img src=\"https://colab.research.google.com/assets/colab-badge.svg\" alt=\"Open In Colab\"/></a>"
      ]
    },
    {
      "cell_type": "code",
      "execution_count": 2,
      "metadata": {
        "id": "mOM2xcJ2NVIs"
      },
      "outputs": [],
      "source": [
        "from abc import ABC, abstractmethod\n",
        "from typing import Optional, List, Type, Tuple, Dict\n",
        "import math\n",
        "\n",
        "import numpy as np\n",
        "from matplotlib import pyplot as plt\n",
        "from matplotlib.axes._axes import Axes\n",
        "import torch\n",
        "import torch.nn as nn\n",
        "import torch.distributions as D\n",
        "from torch.func import vmap, jacrev\n",
        "from tqdm import tqdm\n",
        "import seaborn as sns\n",
        "from sklearn.datasets import make_moons, make_circles\n",
        "from torchvision import datasets, transforms\n",
        "from torchvision.utils import make_grid\n",
        "\n",
        "device = torch.device('cuda' if torch.cuda.is_available() else 'cpu')"
      ]
    },
    {
      "cell_type": "markdown",
      "source": [
        "Part 0: Recycling components from previous labs"
      ],
      "metadata": {
        "id": "6D3RXiOlNlNl"
      }
    },
    {
      "cell_type": "code",
      "source": [
        "class OldSampleable(ABC):\n",
        "  @abstractmethod\n",
        "  def sample(self, num_samples: int) -> torch.Tensor:\n",
        "    pass"
      ],
      "metadata": {
        "id": "NBSypfbsNi2d"
      },
      "execution_count": 3,
      "outputs": []
    },
    {
      "cell_type": "code",
      "source": [
        "class Sampleable(ABC):\n",
        "  @abstractmethod\n",
        "  def sample(self, num_samples: int) -> Tuple[torch.Tensor, Optional[torch.Tensor]]:\n",
        "    pass"
      ],
      "metadata": {
        "id": "e1d4CzUlN0fU"
      },
      "execution_count": 4,
      "outputs": []
    },
    {
      "cell_type": "code",
      "source": [
        "class IsotropicGaussian(nn.Module, Sampleable):\n",
        "  def __init__(self, shape: List[int], std: float=1.0):\n",
        "    super().__init__()\n",
        "    self.shape = shape\n",
        "    self.std = std\n",
        "    self.dummy = nn.Buffer(torch.zeros(1))\n",
        "\n",
        "  def sample(self, num_samples) -> Tuple[torch.Tensor, torch.Tensor]:\n",
        "    return self.std * torch.randn(num_samples, *self.shape).to(self.dummy.device), None"
      ],
      "metadata": {
        "id": "pHnZniebOgN3"
      },
      "execution_count": 5,
      "outputs": []
    },
    {
      "cell_type": "code",
      "source": [
        "class ConditionalProbabilityPath(nn.Module, ABC):\n",
        "  def __init__(self, p_simple: Sampleable, p_data: Sampleable):\n",
        "    super().__init__()\n",
        "    self.p_simple = p_simple\n",
        "    self.p_data = p_data\n",
        "\n",
        "  def sample_marginal_path(self, t: torch.Tensor) -> torch.Tensor:\n",
        "    num_samples = t.shape[0]\n",
        "    z, _ = self.samle_conditioning_variable(num_samples)\n",
        "    x = self.sample_conditional_path(z, t)\n",
        "    return x\n",
        "\n",
        "  @abstractmethod\n",
        "  def sample_conditioning_variable(self, num_samples: int) -> Tuple[torch.Tensor, torch.Tensor]:\n",
        "    pass\n",
        "\n",
        "  @abstractmethod\n",
        "  def sample_conditional_path(self, z: torch.Tensor, t: torch.Tensor) -> torch.Tensor:\n",
        "    pass\n",
        "\n",
        "  @abstractmethod\n",
        "  def conditional_vector_field(self, x: torch.Tensor, z: torch.Tensor, t: torch.Tensor) -> torch.Tensor:\n",
        "    pass\n",
        "\n",
        "  @abstractmethod\n",
        "  def conditional_score(self, x: torch.Tensor, z: torch.Tensor, t: torch.Tensor) -> torch.Tensor:\n",
        "    pass"
      ],
      "metadata": {
        "id": "C_MZCEfSPQ8W"
      },
      "execution_count": 7,
      "outputs": []
    },
    {
      "cell_type": "code",
      "source": [
        "class Alpha(ABC):\n",
        "  def __init__(self):\n",
        "    assert torch.allclose( self(torch.zeros(1, 1, 1, 1)), torch.zeros(1,1,1,1))\n",
        "    assert torch.allclose( self(torch.ones(1,1,1,1)), torch.ones(1,1,1,1))\n",
        "\n",
        "  @abstractmethod\n",
        "  def __call__(self, t: torch.Tensor) -> torch.Tensor:\n",
        "    pass\n",
        "\n",
        "  def dt(self, t: torch.Tensor) -> torch.Tensor:\n",
        "    t = t.unsqueeze(1)\n",
        "    dt = vmap(jacrev(self))(t)\n",
        "    return dt.view(-1, 1, 1, 1)\n",
        "\n",
        "class Beta(ABC):\n",
        "  def __init__(self):\n",
        "    assert torch.allclose( self(torch.zeros(1, 1, 1, 1)), torch.ones(1,1,1,1))\n",
        "    assert torch.allclose( self(torch.ones(1,1,1,1)), torch.zeros(1,1,1,1))\n",
        "\n",
        "  @abstractmethod\n",
        "  def __call__(self, t: torch.Tensor) -> torch.Tensor:\n",
        "    pass\n",
        "\n",
        "  def dt(self, t: torch.Tensor) -> torch.Tensor:\n",
        "    t = t.unsqueeze(1)\n",
        "    dt = vmap(jacrev(self))(t)\n",
        "    return dt.view(-1, 1, 1, 1)\n",
        "\n",
        "class LinearAlpha(Alpha):\n",
        "  def __call__(self, t: torch.Tensor) -> torch.Tensor:\n",
        "    return t\n",
        "\n",
        "  def dt(self, t: torch.Tensor) -> torch.Tensor:\n",
        "    return torch.ones_like(t)\n",
        "\n",
        "class LinearBeta(Beta):\n",
        "  def __call__(self, t: torch.Tensor) -> torch.Tensor:\n",
        "    return 1 - t\n",
        "\n",
        "  def dt(self, t: torch.Tensor) -> torch.Tensor:\n",
        "    return - torch.ones_like(t)\n",
        "\n",
        "class GaussianConditionalProbabilityPath(ConditionalProbabilityPath):\n",
        "  def __init__(self, p_data: Sampleable, p_simple_shape: List[int], alpha: Alpha, beta: Beta):\n",
        "    p_simple = IsotropicGaussian(shape = p_simple_shape, std=1.0)\n",
        "    super().__init__(p_simple, p_data)\n",
        "    self.alpha = alpha\n",
        "    self.beta = beta\n",
        "\n",
        "  def sample_conditioning_variable(self, num_samples: int) -> torch.Tensor:\n",
        "    return self.p_data.sample(num_samples)\n",
        "\n",
        "  def sample_conditional_path(self, z: torch.Tensor, t: torch.Tensor) -> torch.Tensor:\n",
        "    return self.alpha(t) * z + self.beta(t)* torch.randn_like(z)\n",
        "\n",
        "  def conditional_vector_field(self, x: torch.Tensor, z: torch.Tensor, t: torch.Tensor) -> torch.Tensor:\n",
        "    alpha_t = self.alpha(t)\n",
        "    beta_t = self.beta(t)\n",
        "    dt_alpha_t = self.alpha.dt(t)\n",
        "    dt_beta_t = self.beta.dt(t)\n",
        "\n",
        "    return (dt_alpha_t - dt_beta_t/beta_t * alpha_t)*z + dt_beta_t/beta_t * x\n",
        "\n",
        "  def conditional_score(self, x: torch.Tensor, z: torch.Tensor, t: torch.Tensor) -> torch.Tensor:\n",
        "    alpha_t = self.alpha(t)\n",
        "    beta_t = self.beta(t)\n",
        "    return (z * alpha_t - x)/ beta_t **2"
      ],
      "metadata": {
        "id": "laUmdnHUP74E"
      },
      "execution_count": 8,
      "outputs": []
    },
    {
      "cell_type": "code",
      "source": [
        "class ODE(ABC):\n",
        "  @abstractmethod\n",
        "  def drift_coefficient(self, xt: torch.Tensor, t: torch.Tensor, **kwargs) -> torch.Tensor:\n",
        "    pass\n",
        "\n",
        "class SDE(ABC):\n",
        "  @abstractmethod\n",
        "  def drift_coefficient(self, xt: torch.Tensor, t: torch.Tensor, **kwargs) -> torch.Tensor:\n",
        "    pass\n",
        "\n",
        "  @abstractmethod\n",
        "  def diffusion_coefficient(self, xt: torch.Tensor, t: torch.Tensor, **kwargs) -> torch.Tensor:\n",
        "    pass"
      ],
      "metadata": {
        "id": "LfjoXlYQUEqm"
      },
      "execution_count": 9,
      "outputs": []
    },
    {
      "cell_type": "code",
      "source": [
        "class Simulator(ABC):\n",
        "  @abstractmethod\n",
        "  def step(self, xt: torch.Tensor, t: torch.Tensor, dt: torch.Tensor, **kwargs):\n",
        "    pass\n",
        "\n",
        "  @torch.no_grad()\n",
        "  def simulate(self, x: torch.Tensor, ts: torch.Tensor, **kwargs) -> torch.Tensor:\n",
        "    nts = ts.shape[1]\n",
        "    for t_idx in tqdm(range(nts - 1)):\n",
        "      t = ts[:, t_idx]\n",
        "      h = ts[:, t_idx + 1] - t\n",
        "      x = self.step(x, t, h, **kwargs)\n",
        "    return x"
      ],
      "metadata": {
        "id": "9Kw6VyVdUzda"
      },
      "execution_count": null,
      "outputs": []
    }
  ]
}