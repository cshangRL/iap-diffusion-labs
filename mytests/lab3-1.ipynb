{
  "nbformat": 4,
  "nbformat_minor": 0,
  "metadata": {
    "colab": {
      "provenance": [],
      "authorship_tag": "ABX9TyNYPDQ6WPlmD/dEk3hHCIAe",
      "include_colab_link": true
    },
    "kernelspec": {
      "name": "python3",
      "display_name": "Python 3"
    },
    "language_info": {
      "name": "python"
    }
  },
  "cells": [
    {
      "cell_type": "markdown",
      "metadata": {
        "id": "view-in-github",
        "colab_type": "text"
      },
      "source": [
        "<a href=\"https://colab.research.google.com/github/cshangRL/iap-diffusion-labs/blob/main/mytests/lab3-1.ipynb\" target=\"_parent\"><img src=\"https://colab.research.google.com/assets/colab-badge.svg\" alt=\"Open In Colab\"/></a>"
      ]
    },
    {
      "cell_type": "code",
      "execution_count": 2,
      "metadata": {
        "id": "mOM2xcJ2NVIs"
      },
      "outputs": [],
      "source": [
        "from abc import ABC, abstractmethod\n",
        "from typing import Optional, List, Type, Tuple, Dict\n",
        "import math\n",
        "\n",
        "import numpy as np\n",
        "from matplotlib import pyplot as plt\n",
        "from matplotlib.axes._axes import Axes\n",
        "import torch\n",
        "import torch.nn as nn\n",
        "import torch.distributions as D\n",
        "from torch.func import vmap, jacrev\n",
        "from tqdm import tqdm\n",
        "import seaborn as sns\n",
        "from sklearn.datasets import make_moons, make_circles\n",
        "from torchvision import datasets, transforms\n",
        "from torchvision.utils import make_grid\n",
        "\n",
        "device = torch.device('cuda' if torch.cuda.is_available() else 'cpu')"
      ]
    },
    {
      "cell_type": "markdown",
      "source": [
        "Part 0: Recycling components from previous labs"
      ],
      "metadata": {
        "id": "6D3RXiOlNlNl"
      }
    },
    {
      "cell_type": "code",
      "source": [
        "class OldSampleable(ABC):\n",
        "  @abstractmethod\n",
        "  def sample(self, num_samples: int) -> torch.Tensor:\n",
        "    pass"
      ],
      "metadata": {
        "id": "NBSypfbsNi2d"
      },
      "execution_count": 3,
      "outputs": []
    },
    {
      "cell_type": "code",
      "source": [
        "class Sampleable(ABC):\n",
        "  @abstractmethod\n",
        "  def sample(self, num_samples: int) -> Tuple[torch.Tensor, Optional[torch.Tensor]]:\n",
        "    pass"
      ],
      "metadata": {
        "id": "e1d4CzUlN0fU"
      },
      "execution_count": 4,
      "outputs": []
    },
    {
      "cell_type": "code",
      "source": [
        "class IsotropicGaussian(nn.Module, Sampleable):\n",
        "  def __init__(self, shape: List[int], std: float=1.0):\n",
        "    super().__init__()\n",
        "    self.shape = shape\n",
        "    self.std = std\n",
        "    self.dummy = nn.Buffer(torch.zeros(1))\n",
        "\n",
        "  def sample(self, num_samples) -> Tuple[torch.Tensor, torch.Tensor]:\n",
        "    return self.std * torch.randn(num_samples, *self.shape).to(self.dummy.device), None"
      ],
      "metadata": {
        "id": "pHnZniebOgN3"
      },
      "execution_count": 5,
      "outputs": []
    },
    {
      "cell_type": "code",
      "source": [],
      "metadata": {
        "id": "C_MZCEfSPQ8W"
      },
      "execution_count": null,
      "outputs": []
    }
  ]
}